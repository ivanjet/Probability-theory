{
 "cells": [
  {
   "cell_type": "markdown",
   "id": "751dd2d8-c17d-4230-9bfa-4e9ae76bf339",
   "metadata": {},
   "source": [
    "### Задача 1. Даны две  независимые выборки. Не соблюдается условие нормальности\r\n",
    "\n",
    "x1  380,420, 29\n",
    "\n",
    "\r\n",
    "y1 140,360,200,900\r\n",
    "\r\n",
    "Сделайте вывод по результатам, полученным с помощью функции"
   ]
  },
  {
   "cell_type": "code",
   "execution_count": 24,
   "id": "c9f83fca-d821-4dde-b00e-13aeb80a12a7",
   "metadata": {},
   "outputs": [
    {
     "name": "stdout",
     "output_type": "stream",
     "text": [
      "\n",
      "Statistics = 8.00 \n",
      "Р = 0.629\n",
      "Различия отсутствуют, принимаем нулевую гипотезу.\n"
     ]
    }
   ],
   "source": [
    "import numpy as np\n",
    "import scipy.stats as stats\n",
    "\n",
    "alpha = 0.05\n",
    "x= np.array([380, 420, 290])\n",
    "y= np.array([140, 360, 200, 900])\n",
    "d = stats.mannwhitneyu(x,y)\n",
    "print('\\nStatistics = %.2f \\nР = %.3f' % (d))\n",
    "s, p = stats.mannwhitneyu(x,y)\n",
    "if p > alpha:\n",
    "    print('Различия отсутствуют, принимаем нулевую гипотезу.')\n",
    "else:\n",
    "    print('Различия присутствуют, отвергаем нулевую гипотезу.')"
   ]
  },
  {
   "cell_type": "markdown",
   "id": "e126b11e-718d-4ced-83ac-8b9bd80316bf",
   "metadata": {},
   "source": [
    "### Задача 2. Исследовалось влияние препарата на уровень давления пациентов. Сначала измерялось давление до приема препарата, потом через 10 минут и через 30 минут. Есть ли статистически значимые различия?\r\n",
    "\n",
    "- 1е измерение до приема препарата: 150, 160, 165, 145, 155\n",
    "- 2е измерение через 10 минут: 140, 155, 150,  130, 135\n",
    "- 35\r\n",
    "3е измерение через 30 минут: 130, 130, 120, 130, 125"
   ]
  },
  {
   "cell_type": "code",
   "execution_count": 19,
   "id": "a242d70b-4955-402c-8924-603b296e9d46",
   "metadata": {},
   "outputs": [
    {
     "name": "stdout",
     "output_type": "stream",
     "text": [
      "\n",
      "Statistics = 9.58 \n",
      "Р = 0.008\n",
      "Существенные различия присутствуют, отвергаем нулевую гипотезу, препарат влияет на давление.\n"
     ]
    }
   ],
   "source": [
    "alpha=0.05\n",
    "x1=np.array([150, 160, 165, 145, 155])\n",
    "x2=np.array([140, 155, 150, 130, 135])\n",
    "x3=np.array([130, 130, 120, 130, 125])\n",
    "d = stats.friedmanchisquare(x1, x2, x3)\n",
    "print('\\nStatistics = %.2f \\nР = %.3f' % (d))\n",
    "s, p = stats.friedmanchisquare(x1, x2, x3)\n",
    "if p > alpha:\n",
    "    print('Существенные различия отсутствуют, принимаем нулевую гипотезу, препарат не влияет на давление.')\n",
    "else:\n",
    "    print('Существенные различия присутствуют, отвергаем нулевую гипотезу, препарат влияет на давление.')"
   ]
  },
  {
   "cell_type": "markdown",
   "id": "1b30e6a3-3028-4a65-925a-684ab112136b",
   "metadata": {},
   "source": [
    "### Задание 3. Сравните 1 и 2 е измерения, предполагая, что 3го измерения через 30 минут не было."
   ]
  },
  {
   "cell_type": "code",
   "execution_count": 20,
   "id": "f1f3ae7a-6b55-423d-bdc0-f1bf71a5a006",
   "metadata": {},
   "outputs": [
    {
     "name": "stdout",
     "output_type": "stream",
     "text": [
      "\n",
      ">>> Statistics = 0.00 \n",
      ">>> Р-value = 0.062\n",
      "Существенные различия отсутствуют, принимаем нулевую гипотезу, препарат не влияет на давление.\n"
     ]
    }
   ],
   "source": [
    "alpha=0.05\n",
    "x1=np.array([150, 160, 165, 145, 155])\n",
    "x2=np.array([140, 155, 150, 130, 135])\n",
    "d = stats.wilcoxon(x1, x2)\n",
    "print('\\n>>> Statistics = %.2f \\n>>> Р-value = %.3f' % (d))\n",
    "s, p = stats.wilcoxon(x1, x2)\n",
    "if p > alpha:\n",
    "   print('Существенные различия отсутствуют, принимаем нулевую гипотезу, препарат не влияет на давление.')\n",
    "else:\n",
    "    print('Существенные различия присутствуют, отвергаем нулевую гипотезу, препарат влияет на давление.')"
   ]
  },
  {
   "cell_type": "markdown",
   "id": "d725cf18-dcfb-45b3-98a7-8fea6faac252",
   "metadata": {},
   "source": [
    "### Задача 4. Даны 3 группы учеников плавания.\n",
    "\n",
    "- Первая группа: 56, 60, 62, 55, 71, 67, 59, 58, 64, 67\n",
    "- Вторая группа: 57, 58, 69, 48, 72, 70, 68, 71, 50, 53\n",
    "- Третья группа: 57, 67, 49, 48, 47, 55, 66, 51, 54"
   ]
  },
  {
   "cell_type": "code",
   "execution_count": 23,
   "id": "fe52db29-4696-44a9-9ef8-bd364c498989",
   "metadata": {},
   "outputs": [
    {
     "name": "stdout",
     "output_type": "stream",
     "text": [
      "\n",
      "Statistics = 5.47 \n",
      "Р-value = 0.065\n",
      "Существенные различия отсутствуют, принимаем нулевую гипотезу, время на дистанцию одинаковое.\n"
     ]
    }
   ],
   "source": [
    "alpha=0.05\n",
    "x1=np.array([56, 60, 62, 55, 71, 67, 59, 58, 64, 67])\n",
    "x2=np.array([57, 58, 69, 48, 72, 70, 68, 71, 50, 53])\n",
    "x3=np.array([57, 67, 49, 48, 47, 55, 66, 51, 54])\n",
    "d = stats.kruskal(x1,x2,x3)\n",
    "print('\\nStatistics = %.2f \\nР-value = %.3f' % (d))\n",
    "s, p = stats.kruskal(x1,x2,x3)\n",
    "if p > alpha:\n",
    "    print('Существенные различия отсутствуют, принимаем нулевую гипотезу, время на дистанцию одинаковое.')\n",
    "else:\n",
    "    print('Существенные различия присутствуют, отвергаем нулевую гипотезу, время на дистанцию не одинаковое.')"
   ]
  },
  {
   "cell_type": "code",
   "execution_count": null,
   "id": "a025d055-c8ce-49a9-bcd9-f7ee1a836c92",
   "metadata": {},
   "outputs": [],
   "source": []
  }
 ],
 "metadata": {
  "kernelspec": {
   "display_name": "Python 3 (ipykernel)",
   "language": "python",
   "name": "python3"
  },
  "language_info": {
   "codemirror_mode": {
    "name": "ipython",
    "version": 3
   },
   "file_extension": ".py",
   "mimetype": "text/x-python",
   "name": "python",
   "nbconvert_exporter": "python",
   "pygments_lexer": "ipython3",
   "version": "3.11.4"
  }
 },
 "nbformat": 4,
 "nbformat_minor": 5
}
